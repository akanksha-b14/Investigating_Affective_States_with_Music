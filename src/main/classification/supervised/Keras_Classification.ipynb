{
  "nbformat": 4,
  "nbformat_minor": 0,
  "metadata": {
    "colab": {
      "name": "Keras-Classification.ipynb",
      "provenance": [],
      "collapsed_sections": []
    },
    "kernelspec": {
      "name": "python3",
      "display_name": "Python 3"
    },
    "language_info": {
      "name": "python"
    },
    "accelerator": "GPU"
  },
  "cells": [
    {
      "cell_type": "code",
      "metadata": {
        "id": "Y3pgxnWOiyL3",
        "colab": {
          "base_uri": "https://localhost:8080/"
        },
        "outputId": "1f7e0b1d-465a-4db6-bce1-bd6646d2515c"
      },
      "source": [
        "#Script to obtain data \n",
        "#from helpers import *\n",
        "import numpy as np \n",
        "import pandas as pd \n",
        "import matplotlib.pyplot as plt\n",
        "import seaborn as sns\n",
        "\n",
        "#Libraries to create the multiclass model\n",
        "from keras.models import Sequential\n",
        "from keras.layers import Dense\n",
        "from keras.wrappers.scikit_learn import KerasClassifier\n",
        "from tensorflow.keras.models import Sequential, Model\n",
        "from keras.utils import np_utils\n",
        "#Import tensorflow and disable the v2 behavior and eager mode\n",
        "import tensorflow as tf\n",
        "tf.compat.v1.disable_eager_execution()\n",
        "tf.compat.v1.disable_v2_behavior()\n",
        "\n",
        "#Library to validate the model\n",
        "from sklearn.model_selection import cross_val_score, KFold, train_test_split\n",
        "from sklearn.preprocessing import LabelEncoder,MinMaxScaler\n",
        "from sklearn.pipeline import Pipeline\n",
        "from sklearn.metrics import confusion_matrix, accuracy_score\n",
        "\n",
        "import pickle\n",
        "from tensorflow.python.keras.saving import saving_utils\n",
        "from tensorflow.python.keras.layers import deserialize, serialize"
      ],
      "execution_count": null,
      "outputs": [
        {
          "output_type": "stream",
          "name": "stdout",
          "text": [
            "WARNING:tensorflow:From /usr/local/lib/python3.7/dist-packages/tensorflow/python/compat/v2_compat.py:111: disable_resource_variables (from tensorflow.python.ops.variable_scope) is deprecated and will be removed in a future version.\n",
            "Instructions for updating:\n",
            "non-resource variables are not supported in the long term\n"
          ]
        }
      ]
    },
    {
      "cell_type": "code",
      "metadata": {
        "id": "Fu4LeA_W7vuI"
      },
      "source": [
        "df = pd.read_csv(\"english_songs_new.csv\")"
      ],
      "execution_count": null,
      "outputs": []
    },
    {
      "cell_type": "code",
      "metadata": {
        "id": "Y6k3QiM5lCuf"
      },
      "source": [
        "df = df.sample(frac=1)"
      ],
      "execution_count": null,
      "outputs": []
    },
    {
      "cell_type": "code",
      "metadata": {
        "colab": {
          "base_uri": "https://localhost:8080/"
        },
        "id": "gUFb8UsPpmcx",
        "outputId": "abb5aa4b-f073-4564-f887-f489bcd946d0"
      },
      "source": [
        "len(df)"
      ],
      "execution_count": null,
      "outputs": [
        {
          "output_type": "execute_result",
          "data": {
            "text/plain": [
              "1374"
            ]
          },
          "metadata": {},
          "execution_count": 12
        }
      ]
    },
    {
      "cell_type": "code",
      "metadata": {
        "id": "0KRPPvs1lDON"
      },
      "source": [
        "col_features = df.columns[4:-3]\n",
        "X= MinMaxScaler().fit_transform(df[col_features])\n",
        "X2 = np.array(df[col_features])\n",
        "Y = df['mood']"
      ],
      "execution_count": null,
      "outputs": []
    },
    {
      "cell_type": "code",
      "metadata": {
        "colab": {
          "base_uri": "https://localhost:8080/",
          "height": 173
        },
        "id": "ykJpXYF5lEua",
        "outputId": "0835ce46-3ecd-4f22-ea80-5896cebcc722"
      },
      "source": [
        "#Encodethe categories\n",
        "encoder = LabelEncoder()\n",
        "encoder.fit(Y)\n",
        "encoded_y = encoder.transform(Y)\n",
        "\n",
        "X_train,X_test,Y_train,Y_test = train_test_split(X,encoded_y,test_size=0.2,random_state=15)\n",
        "\n",
        "target = pd.DataFrame({'mood':df['mood'].tolist(),'encode':encoded_y}).drop_duplicates().sort_values(['encode'],ascending=True)\n",
        "target"
      ],
      "execution_count": null,
      "outputs": [
        {
          "output_type": "execute_result",
          "data": {
            "text/html": [
              "<div>\n",
              "<style scoped>\n",
              "    .dataframe tbody tr th:only-of-type {\n",
              "        vertical-align: middle;\n",
              "    }\n",
              "\n",
              "    .dataframe tbody tr th {\n",
              "        vertical-align: top;\n",
              "    }\n",
              "\n",
              "    .dataframe thead th {\n",
              "        text-align: right;\n",
              "    }\n",
              "</style>\n",
              "<table border=\"1\" class=\"dataframe\">\n",
              "  <thead>\n",
              "    <tr style=\"text-align: right;\">\n",
              "      <th></th>\n",
              "      <th>mood</th>\n",
              "      <th>encode</th>\n",
              "    </tr>\n",
              "  </thead>\n",
              "  <tbody>\n",
              "    <tr>\n",
              "      <th>12</th>\n",
              "      <td>Calm</td>\n",
              "      <td>0</td>\n",
              "    </tr>\n",
              "    <tr>\n",
              "      <th>0</th>\n",
              "      <td>Energetic</td>\n",
              "      <td>1</td>\n",
              "    </tr>\n",
              "    <tr>\n",
              "      <th>2</th>\n",
              "      <td>Happy</td>\n",
              "      <td>2</td>\n",
              "    </tr>\n",
              "    <tr>\n",
              "      <th>5</th>\n",
              "      <td>Sad</td>\n",
              "      <td>3</td>\n",
              "    </tr>\n",
              "  </tbody>\n",
              "</table>\n",
              "</div>"
            ],
            "text/plain": [
              "         mood  encode\n",
              "12       Calm       0\n",
              "0   Energetic       1\n",
              "2       Happy       2\n",
              "5         Sad       3"
            ]
          },
          "metadata": {},
          "execution_count": 20
        }
      ]
    },
    {
      "cell_type": "code",
      "metadata": {
        "id": "JqbqUD_vlGEC"
      },
      "source": [
        "def base_model():\n",
        "    #Create the model\n",
        "    model = Sequential()\n",
        "    model.add(Dense(8,input_dim=10,activation='relu'))\n",
        "    #Add 1 layer \n",
        "    model.add(Dense(10,input_dim=10,activation='relu'))\n",
        "    #Add 1 layer with output 3 and softmax function\n",
        "    model.add(Dense(4,activation='softmax'))\n",
        "    #Compile the model using sigmoid loss function and adam optim\n",
        "    model.compile(loss='categorical_crossentropy',optimizer='adam',\n",
        "                 metrics=['accuracy'])\n",
        "    return model"
      ],
      "execution_count": null,
      "outputs": []
    },
    {
      "cell_type": "code",
      "metadata": {
        "id": "CO3Nb-oKlIaT"
      },
      "source": [
        "#Configure the model\n",
        "estimator = KerasClassifier(build_fn=base_model,epochs=1000,batch_size=200,verbose=0)"
      ],
      "execution_count": null,
      "outputs": []
    },
    {
      "cell_type": "code",
      "metadata": {
        "colab": {
          "base_uri": "https://localhost:8080/"
        },
        "id": "nliEB-lolKJZ",
        "outputId": "9cf1a912-9e5c-4b3a-d43b-aa7c3ec66df5"
      },
      "source": [
        "#Evaluate the model using KFold cross validation\n",
        "kfold = KFold(n_splits=20,shuffle=True)\n",
        "results = cross_val_score(estimator,X,encoded_y,cv=kfold)\n",
        "print(\"Baseline: %.2f%% (%.2f%%)\" % (results.mean()*100,results.std()*100))"
      ],
      "execution_count": null,
      "outputs": [
        {
          "output_type": "stream",
          "name": "stderr",
          "text": [
            "/usr/local/lib/python3.7/dist-packages/keras/engine/training.py:2470: UserWarning: `Model.state_updates` will be removed in a future version. This property should not be used in TensorFlow 2.0, as `updates` are applied automatically.\n",
            "  warnings.warn('`Model.state_updates` will be removed in a future version. '\n"
          ]
        },
        {
          "output_type": "stream",
          "name": "stdout",
          "text": [
            "Baseline: 73.45% (5.65%)\n"
          ]
        }
      ]
    },
    {
      "cell_type": "code",
      "metadata": {
        "colab": {
          "base_uri": "https://localhost:8080/"
        },
        "id": "fe49sg5jysRq",
        "outputId": "10216f48-193b-4725-d2d9-7bf5f11f8a77"
      },
      "source": [
        "estimator.fit(X_train,Y_train)\n",
        "y_preds = estimator.predict(X_test)"
      ],
      "execution_count": null,
      "outputs": [
        {
          "output_type": "stream",
          "name": "stderr",
          "text": [
            "/usr/local/lib/python3.7/dist-packages/keras/engine/training.py:2470: UserWarning: `Model.state_updates` will be removed in a future version. This property should not be used in TensorFlow 2.0, as `updates` are applied automatically.\n",
            "  warnings.warn('`Model.state_updates` will be removed in a future version. '\n"
          ]
        }
      ]
    },
    {
      "cell_type": "code",
      "metadata": {
        "colab": {
          "base_uri": "https://localhost:8080/",
          "height": 312
        },
        "id": "f5X-DxZdikzM",
        "outputId": "71877232-172d-4022-e038-9316e0ed05a8"
      },
      "source": [
        "cm = confusion_matrix(Y_test,y_preds)\n",
        "ax = plt.subplot()\n",
        "sns.heatmap(cm,annot=True,ax=ax)\n",
        "\n",
        "labels = target['mood']\n",
        "ax.set_xlabel('Predicted labels')\n",
        "ax.set_ylabel('True labels')\n",
        "ax.set_title('Confusion Matrix')\n",
        "ax.xaxis.set_ticklabels(labels)\n",
        "ax.yaxis.set_ticklabels(labels)\n",
        "plt.show()\n",
        "\n",
        "print(\"Accuracy Score\",accuracy_score(Y_test,y_preds))"
      ],
      "execution_count": null,
      "outputs": [
        {
          "output_type": "display_data",
          "data": {
            "image/png": "[encoded data removed]",
            "text/plain": [
              "<Figure size 432x288 with 2 Axes>"
            ]
          },
          "metadata": {
            "needs_background": "light"
          }
        },
        {
          "output_type": "stream",
          "name": "stdout",
          "text": [
            "Accuracy Score 0.7454545454545455\n"
          ]
        }
      ]
    },
    {
      "cell_type": "code",
      "metadata": {
        "colab": {
          "base_uri": "https://localhost:8080/"
        },
        "id": "n6Lov3inq-cT",
        "outputId": "3062b2a2-2541-40b7-aba7-518f00bc7155"
      },
      "source": [
        "#Join the model and the scaler in a Pipeline\n",
        "pip = Pipeline([('minmaxscaler',MinMaxScaler()),('keras',KerasClassifier(build_fn=base_model,epochs=300,\n",
        "                                                                             batch_size=200,verbose=0))])\n",
        "#Fit the Pipeline\n",
        "pip.fit(X2,encoded_y)"
      ],
      "execution_count": null,
      "outputs": [
        {
          "output_type": "execute_result",
          "data": {
            "text/plain": [
              "Pipeline(memory=None,\n",
              "         steps=[('minmaxscaler', MinMaxScaler(copy=True, feature_range=(0, 1))),\n",
              "                ('keras',\n",
              "                 <keras.wrappers.scikit_learn.KerasClassifier object at 0x7fb111530310>)],\n",
              "         verbose=False)"
            ]
          },
          "metadata": {},
          "execution_count": 26
        }
      ]
    },
    {
      "cell_type": "code",
      "metadata": {
        "id": "KovoN94eorul"
      },
      "source": [
        "#df_hindi = pd.read_csv(\"indian_songs_unannotated.csv\")\n",
        "df_chinese = pd.read_csv(\"chinese_songs_unannotated.csv\")"
      ],
      "execution_count": null,
      "outputs": []
    },
    {
      "cell_type": "code",
      "metadata": {
        "id": "4NIk2gzmrmrN"
      },
      "source": [
        "playlist_features_list = [\"id\",\"artist\", \"album\", \"name\", \"length\",\t\n",
        "                                \"danceability\",\"acousticness\", \"energy\", \"instrumentalness\", \"liveness\", \"valence\",\t\"loudness\",\t\"speechiness\", \"tempo\", \"key\", \"time_signature\", \"mood\"]\n",
        "playlist_dataframe = pd.DataFrame(columns = playlist_features_list)\n",
        "playlist_features = {}"
      ],
      "execution_count": null,
      "outputs": []
    },
    {
      "cell_type": "code",
      "metadata": {
        "colab": {
          "base_uri": "https://localhost:8080/"
        },
        "id": "rhzvybszp3qs",
        "outputId": "aa0c302e-7639-419a-ef06-c5a54aa2439f"
      },
      "source": [
        "for index,row in df_hindi.iterrows():\n",
        "    preds_features = np.array(row[6:-2]).reshape(-1,1).T\n",
        "\n",
        "    #Predict the features of the song\n",
        "    results = pip.predict(preds_features)\n",
        "    mood = np.array(target['mood'][target['encode']==int(results)])\n",
        "    row[\"mood\"] = mood[0]\n",
        "    playlist_features[\"mood\"] = row[\"mood\"]\n",
        "    for feature in playlist_features_list[:-1]:\n",
        "            playlist_features[feature] = row[feature]\n",
        "    track_dataframe = pd.DataFrame(playlist_features, index = [0])\n",
        "    playlist_dataframe = pd.concat([playlist_dataframe, track_dataframe], ignore_index = True)"
      ],
      "execution_count": null,
      "outputs": [
        {
          "output_type": "stream",
          "name": "stderr",
          "text": [
            "/usr/local/lib/python3.7/dist-packages/keras/engine/training.py:2470: UserWarning: `Model.state_updates` will be removed in a future version. This property should not be used in TensorFlow 2.0, as `updates` are applied automatically.\n",
            "  warnings.warn('`Model.state_updates` will be removed in a future version. '\n"
          ]
        }
      ]
    },
    {
      "cell_type": "code",
      "metadata": {
        "colab": {
          "base_uri": "https://localhost:8080/"
        },
        "id": "ufvHXp6Hwh4H",
        "outputId": "06435412-9d56-43d8-86cc-e0d7ad4de16a"
      },
      "source": [
        "len(playlist_dataframe)"
      ],
      "execution_count": null,
      "outputs": [
        {
          "output_type": "execute_result",
          "data": {
            "text/plain": [
              "431"
            ]
          },
          "metadata": {},
          "execution_count": 18
        }
      ]
    },
    {
      "cell_type": "code",
      "metadata": {
        "id": "vHYyLmkuta7c"
      },
      "source": [
        "playlist_dataframe.to_csv('hindi_songs_annotated.csv',encoding='utf-8')"
      ],
      "execution_count": null,
      "outputs": []
    },
    {
      "cell_type": "code",
      "metadata": {
        "id": "VlQP6VPrqNN8",
        "colab": {
          "base_uri": "https://localhost:8080/"
        },
        "outputId": "c32f8567-85a6-4b4b-a12e-3bcd20b40b0c"
      },
      "source": [
        "playlist_features_list = [\"id\",\"artist\", \"album\", \"name\", \"length\",\t\n",
        "                                \"danceability\",\"acousticness\", \"energy\", \"instrumentalness\", \"liveness\", \"valence\",\t\"loudness\",\t\"speechiness\", \"tempo\", \"key\", \"time_signature\", \"mood\"]\n",
        "playlist_dataframe = pd.DataFrame(columns = playlist_features_list)\n",
        "playlist_features = {}\n",
        "\n",
        "for index,row in df_chinese.iterrows():\n",
        "    preds_features = np.array(row[5:-2]).reshape(-1,1).T\n",
        "\n",
        "    #Predict the features of the song\n",
        "    results = pip.predict(preds_features)\n",
        "    mood = np.array(target['mood'][target['encode']==int(results)])\n",
        "    row[\"mood\"] = mood[0]\n",
        "    playlist_features[\"mood\"] = row[\"mood\"]\n",
        "    for feature in playlist_features_list[:-1]:\n",
        "            playlist_features[feature] = row[feature]\n",
        "    track_dataframe = pd.DataFrame(playlist_features, index = [0])\n",
        "    playlist_dataframe = pd.concat([playlist_dataframe, track_dataframe], ignore_index = True)"
      ],
      "execution_count": null,
      "outputs": [
        {
          "output_type": "stream",
          "name": "stderr",
          "text": [
            "/usr/local/lib/python3.7/dist-packages/keras/engine/training.py:2470: UserWarning: `Model.state_updates` will be removed in a future version. This property should not be used in TensorFlow 2.0, as `updates` are applied automatically.\n",
            "  warnings.warn('`Model.state_updates` will be removed in a future version. '\n"
          ]
        }
      ]
    },
    {
      "cell_type": "code",
      "metadata": {
        "id": "Kv8_KP1bsyC8"
      },
      "source": [
        "playlist_dataframe.to_csv('chinese_songs_annotated.csv',encoding='utf-8')"
      ],
      "execution_count": null,
      "outputs": []
    },
    {
      "cell_type": "code",
      "metadata": {
        "id": "QxJwXwyv3Pnc"
      },
      "source": [
        ""
      ],
      "execution_count": null,
      "outputs": []
    }
  ]
}
